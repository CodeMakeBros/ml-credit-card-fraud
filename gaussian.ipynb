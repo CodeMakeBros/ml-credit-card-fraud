{
 "cells": [
  {
   "cell_type": "code",
   "execution_count": 17,
   "metadata": {},
   "outputs": [],
   "source": [
    "import numpy as np \n",
    "import pandas as pd\n",
    "import math"
   ]
  },
  {
   "cell_type": "code",
   "execution_count": 18,
   "metadata": {},
   "outputs": [],
   "source": [
    "train_df = pd.read_csv('data/trainset.csv')\n",
    "test_df = pd.read_csv('data/testset.csv')\n",
    "cv_df = pd.read_csv('data/cvset.csv')"
   ]
  },
  {
   "cell_type": "code",
   "execution_count": 27,
   "metadata": {},
   "outputs": [],
   "source": [
    "train_df = pd.read_csv('data/trainset_pot_inc.csv')\n",
    "test_df = pd.read_csv('data/testset_pot_inc.csv')\n",
    "cv_df = pd.read_csv('data/cvset_pot_inc.csv')"
   ]
  },
  {
   "cell_type": "code",
   "execution_count": 28,
   "metadata": {},
   "outputs": [],
   "source": [
    "x_train = train_df[train_df.columns[:-1]]\n",
    "y_train = train_df[train_df.columns[-1:]]\n",
    "x_test = test_df[test_df.columns[:-1]]\n",
    "y_test = test_df[test_df.columns[-1:]]\n",
    "x_cv = cv_df[cv_df.columns[:-1]]\n",
    "y_cv = cv_df[cv_df.columns[-1:]]"
   ]
  },
  {
   "cell_type": "code",
   "execution_count": 29,
   "metadata": {},
   "outputs": [
    {
     "data": {
      "text/plain": [
       "(pandas.core.frame.DataFrame,\n",
       " pandas.core.frame.DataFrame,\n",
       " pandas.core.frame.DataFrame)"
      ]
     },
     "execution_count": 29,
     "metadata": {},
     "output_type": "execute_result"
    }
   ],
   "source": [
    "type(y_train), type(y_test), type(y_cv)"
   ]
  },
  {
   "cell_type": "code",
   "execution_count": 30,
   "metadata": {},
   "outputs": [],
   "source": [
    "def estimateGaussian(X):\n",
    "    mean = X.mean()\n",
    "\n",
    "    m, n = X.shape\n",
    "\n",
    "    sigma = np.zeros((n,n))\n",
    "\n",
    "    #sigma (sigma^2) = each feature's variance\n",
    "    for i in range(0,m):\n",
    "        sigma = sigma + (X.iloc[i] - mean).values.reshape(n,1).dot((X.iloc[i] - mean).values.reshape(1, n))\n",
    "\n",
    "    sigma = sigma / m\n",
    "\n",
    "    return mean, sigma\n"
   ]
  },
  {
   "cell_type": "code",
   "execution_count": 31,
   "metadata": {},
   "outputs": [],
   "source": [
    "def multivariateGaussian(X, mean, sigma):\n",
    "    m, n = X.shape\n",
    "    X = X.values - mean.values.reshape(1,n)\n",
    "    \n",
    "    #p-value for all entries in X, vectorized. can be replaced by multivariate_normal from scipy.stats\n",
    "    p = (1 / (math.pow((2 * math.pi), n / 2) * math.pow(np.linalg.det(sigma),0.5))) * np.exp(-0.5 * np.sum(X.dot(np.linalg.pinv(sigma)) * X, axis=1))\n",
    "\n",
    "    return p"
   ]
  },
  {
   "cell_type": "code",
   "execution_count": 32,
   "metadata": {},
   "outputs": [],
   "source": [
    "def selectThreshold(yval, pval):\n",
    "    yval = np.squeeze(yval.values).astype(int)\n",
    "\n",
    "    max_epsilon = 0\n",
    "    max_F1 = 0\n",
    "\n",
    "    stepsize = (max(pval) - min(pval)) / 1000\n",
    "    for epsilon in np.arange(min(pval), max(pval), stepsize):\n",
    "        predictions = (pval < epsilon).astype(int)\n",
    "\n",
    "        tp = np.sum((predictions == 1).astype(int) & (yval == 1).astype(int))\n",
    "        fp = np.sum((predictions == 1).astype(int) & (yval == 0).astype(int))\n",
    "        fn = np.sum((predictions == 0).astype(int) & (yval == 1).astype(int))\n",
    "\n",
    "        prec = (tp) / (tp + fp)\n",
    "        rec = (tp) / (tp + fn)\n",
    "\n",
    "        F1 = (2 * prec * rec) / (prec + rec)\n",
    "\n",
    "        if F1 > max_F1:\n",
    "            max_F1 = F1\n",
    "            max_epsilon = epsilon\n",
    "\n",
    "    return max_epsilon, max_F1"
   ]
  },
  {
   "cell_type": "code",
   "execution_count": 33,
   "metadata": {},
   "outputs": [
    {
     "ename": "ZeroDivisionError",
     "evalue": "float division by zero",
     "output_type": "error",
     "traceback": [
      "\u001b[0;31m---------------------------------------------------------------------------\u001b[0m",
      "\u001b[0;31mZeroDivisionError\u001b[0m                         Traceback (most recent call last)",
      "\u001b[0;32m<ipython-input-33-f32193c6f8b8>\u001b[0m in \u001b[0;36m<module>\u001b[0;34m()\u001b[0m\n\u001b[1;32m      1\u001b[0m \u001b[0mmean\u001b[0m\u001b[0;34m,\u001b[0m \u001b[0msigma\u001b[0m \u001b[0;34m=\u001b[0m \u001b[0mestimateGaussian\u001b[0m\u001b[0;34m(\u001b[0m\u001b[0mx_train\u001b[0m\u001b[0;34m)\u001b[0m\u001b[0;34m\u001b[0m\u001b[0m\n\u001b[1;32m      2\u001b[0m \u001b[0;34m\u001b[0m\u001b[0m\n\u001b[0;32m----> 3\u001b[0;31m \u001b[0mpval_train\u001b[0m \u001b[0;34m=\u001b[0m \u001b[0mmultivariateGaussian\u001b[0m\u001b[0;34m(\u001b[0m\u001b[0mx_train\u001b[0m\u001b[0;34m,\u001b[0m \u001b[0mmean\u001b[0m\u001b[0;34m,\u001b[0m \u001b[0msigma\u001b[0m\u001b[0;34m)\u001b[0m\u001b[0;34m\u001b[0m\u001b[0m\n\u001b[0m\u001b[1;32m      4\u001b[0m \u001b[0;34m\u001b[0m\u001b[0m\n\u001b[1;32m      5\u001b[0m \u001b[0mpval_cv\u001b[0m \u001b[0;34m=\u001b[0m \u001b[0mmultivariateGaussian\u001b[0m\u001b[0;34m(\u001b[0m\u001b[0mx_cv\u001b[0m\u001b[0;34m,\u001b[0m \u001b[0mmean\u001b[0m\u001b[0;34m,\u001b[0m \u001b[0msigma\u001b[0m\u001b[0;34m)\u001b[0m\u001b[0;34m\u001b[0m\u001b[0m\n",
      "\u001b[0;32m<ipython-input-31-a5ff9cdb1621>\u001b[0m in \u001b[0;36mmultivariateGaussian\u001b[0;34m(X, mean, sigma)\u001b[0m\n\u001b[1;32m      4\u001b[0m \u001b[0;34m\u001b[0m\u001b[0m\n\u001b[1;32m      5\u001b[0m     \u001b[0;31m#p-value for all entries in X, vectorized. can be replaced by multivariate_normal from scipy.stats\u001b[0m\u001b[0;34m\u001b[0m\u001b[0;34m\u001b[0m\u001b[0m\n\u001b[0;32m----> 6\u001b[0;31m     \u001b[0mp\u001b[0m \u001b[0;34m=\u001b[0m \u001b[0;34m(\u001b[0m\u001b[0;36m1\u001b[0m \u001b[0;34m/\u001b[0m \u001b[0;34m(\u001b[0m\u001b[0mmath\u001b[0m\u001b[0;34m.\u001b[0m\u001b[0mpow\u001b[0m\u001b[0;34m(\u001b[0m\u001b[0;34m(\u001b[0m\u001b[0;36m2\u001b[0m \u001b[0;34m*\u001b[0m \u001b[0mmath\u001b[0m\u001b[0;34m.\u001b[0m\u001b[0mpi\u001b[0m\u001b[0;34m)\u001b[0m\u001b[0;34m,\u001b[0m \u001b[0mn\u001b[0m \u001b[0;34m/\u001b[0m \u001b[0;36m2\u001b[0m\u001b[0;34m)\u001b[0m \u001b[0;34m*\u001b[0m \u001b[0mmath\u001b[0m\u001b[0;34m.\u001b[0m\u001b[0mpow\u001b[0m\u001b[0;34m(\u001b[0m\u001b[0mnp\u001b[0m\u001b[0;34m.\u001b[0m\u001b[0mlinalg\u001b[0m\u001b[0;34m.\u001b[0m\u001b[0mdet\u001b[0m\u001b[0;34m(\u001b[0m\u001b[0msigma\u001b[0m\u001b[0;34m)\u001b[0m\u001b[0;34m,\u001b[0m\u001b[0;36m0.5\u001b[0m\u001b[0;34m)\u001b[0m\u001b[0;34m)\u001b[0m\u001b[0;34m)\u001b[0m \u001b[0;34m*\u001b[0m \u001b[0mnp\u001b[0m\u001b[0;34m.\u001b[0m\u001b[0mexp\u001b[0m\u001b[0;34m(\u001b[0m\u001b[0;34m-\u001b[0m\u001b[0;36m0.5\u001b[0m \u001b[0;34m*\u001b[0m \u001b[0mnp\u001b[0m\u001b[0;34m.\u001b[0m\u001b[0msum\u001b[0m\u001b[0;34m(\u001b[0m\u001b[0mX\u001b[0m\u001b[0;34m.\u001b[0m\u001b[0mdot\u001b[0m\u001b[0;34m(\u001b[0m\u001b[0mnp\u001b[0m\u001b[0;34m.\u001b[0m\u001b[0mlinalg\u001b[0m\u001b[0;34m.\u001b[0m\u001b[0mpinv\u001b[0m\u001b[0;34m(\u001b[0m\u001b[0msigma\u001b[0m\u001b[0;34m)\u001b[0m\u001b[0;34m)\u001b[0m \u001b[0;34m*\u001b[0m \u001b[0mX\u001b[0m\u001b[0;34m,\u001b[0m \u001b[0maxis\u001b[0m\u001b[0;34m=\u001b[0m\u001b[0;36m1\u001b[0m\u001b[0;34m)\u001b[0m\u001b[0;34m)\u001b[0m\u001b[0;34m\u001b[0m\u001b[0m\n\u001b[0m\u001b[1;32m      7\u001b[0m \u001b[0;34m\u001b[0m\u001b[0m\n\u001b[1;32m      8\u001b[0m     \u001b[0;32mreturn\u001b[0m \u001b[0mp\u001b[0m\u001b[0;34m\u001b[0m\u001b[0m\n",
      "\u001b[0;31mZeroDivisionError\u001b[0m: float division by zero"
     ]
    }
   ],
   "source": [
    "mean, sigma = estimateGaussian(x_train)\n",
    "\n",
    "pval_train = multivariateGaussian(x_train, mean, sigma)\n",
    "\n",
    "pval_cv = multivariateGaussian(x_cv, mean, sigma)\n",
    "\n",
    "epsilon, F1 = selectThreshold(y_cv, pval_cv)\n",
    "\n",
    "print(\"Found max epsilon = \" + str(epsilon) + \", max F1 = \" + str(F1))\n",
    "\n",
    "pval_test = multivariateGaussian(x_test, mean, sigma)\n",
    "\n",
    "predictions = (pval_test < epsilon).astype(int)\n",
    "y_test = np.squeeze(y_test.values).astype(int)\n",
    "\n",
    "tp = np.sum((predictions == 1).astype(int) & (y_test == 1).astype(int))\n",
    "fp = np.sum((predictions == 1).astype(int) & (y_test == 0).astype(int))\n",
    "fn = np.sum((predictions == 0).astype(int) & (y_test == 1).astype(int))\n",
    "tn = np.sum((predictions == 0).astype(int) & (y_test == 0).astype(int))\n",
    "\n",
    "prec = (tp) / (tp + fp)\n",
    "rec = (tp) / (tp + fn)\n",
    "\n",
    "F1 = (2 * prec * rec) / (prec + rec)\n",
    "\n",
    "print(\"Precision = \" + str(prec) + \", Recall = \" + str(rec), \"F1 = \" + str(F1))"
   ]
  },
  {
   "cell_type": "code",
   "execution_count": null,
   "metadata": {},
   "outputs": [],
   "source": []
  },
  {
   "cell_type": "code",
   "execution_count": null,
   "metadata": {},
   "outputs": [],
   "source": []
  }
 ],
 "metadata": {
  "kernelspec": {
   "display_name": "Python 3",
   "language": "python",
   "name": "python3"
  },
  "language_info": {
   "codemirror_mode": {
    "name": "ipython",
    "version": 3
   },
   "file_extension": ".py",
   "mimetype": "text/x-python",
   "name": "python",
   "nbconvert_exporter": "python",
   "pygments_lexer": "ipython3",
   "version": "3.5.2"
  }
 },
 "nbformat": 4,
 "nbformat_minor": 2
}
